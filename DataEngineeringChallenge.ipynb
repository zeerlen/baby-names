{
 "cells": [
  {
   "cell_type": "code",
   "execution_count": 2,
   "id": "058f1fb8",
   "metadata": {},
   "outputs": [
    {
     "name": "stdout",
     "output_type": "stream",
     "text": [
      "Deleted - MySQL Database InstanceID=167\n",
      "Deleted - Mongo Database InstanceID=178\n",
      "1007 (HY000): Can't create database 'cars'; database exists\n",
      "MyISAM\n",
      "1050 (42S01): Table 'pickups' already exists\n"
     ]
    }
   ],
   "source": [
    "from DatabaseClass import DatabaseClass\n",
    "from MySQLClass import MySQLClass, MySQLEngineTypes\n",
    "from MongoDBClass import MongoDBClass\n",
    "from DataClass import DataClass\n",
    "\n",
    "mongoServerAddress = \"mongodb://localhost:27017\"\n",
    "\n",
    "dbName = \"cars\"\n",
    "\n",
    "collectionTableName = \"pickups\"\n",
    "\n",
    "dictRecord = {\"Pickup\": \"Hilux\", \"Fabricante\": \"Toyota\"}\n",
    "listRecords = [{\"Pickup\": \"Ranger\", \"Fabricante\": \"Ford\"},\n",
    "                {\"Pickup\": \"Amarok\", \"Fabricante\": \"Volkswagens\"},\n",
    "                {\"Pickup\": \"S-10\", \"Fabricante\": \"Chevrolet\"},\n",
    "                {\"Pickup\": \"Frontier\", \"Fabricante\": \"Nissan\"},\n",
    "                {\"Pickup\": \"L-200 Triton\", \"Fabricante\": \"Mitsubishi\"}]\n",
    "\n",
    "mySqlDBClassInstance = MySQLClass(\"localhost\", \"root\", \"root\")\n",
    "\n",
    "mySqlDBClassInstance.mysqlConnect()\n",
    "\n",
    "mongoDBClassInstance = MongoDBClass(mongoServerAddress)\n",
    "mongoDBClassInstance.mongoConnectDataBase(dbName)\n",
    "mongoDBClassInstance.mongoInsertOneRecord(collectionTableName, dictRecord)\n",
    "\n",
    "mongoDBClassInstance.mongoInsertManyRecords(collectionTableName, listRecords)\n",
    "\n",
    "dataClassInstance = DataClass(\"DataFleaker Instance\")\n",
    "\n",
    "dataClassInstance.setMongoClassObject(mongoDBClassInstance)\n",
    "dataClassInstance.setMySQLClassObject(mySqlDBClassInstance)\n",
    "\n",
    "dataClassInstance.dataMongoToMySQL(collectionTableName,\n",
    "                                                    mongoDBClassInstance.mongoFindAll(collectionTableName),\n",
    "                                                    MySQLEngineTypes.MYISAM.value,\n",
    "                                                    True)"
   ]
  },
  {
   "cell_type": "code",
   "execution_count": null,
   "id": "d11fde27",
   "metadata": {},
   "outputs": [],
   "source": []
  }
 ],
 "metadata": {
  "kernelspec": {
   "display_name": "Python 3 (ipykernel)",
   "language": "python",
   "name": "python3"
  },
  "language_info": {
   "codemirror_mode": {
    "name": "ipython",
    "version": 3
   },
   "file_extension": ".py",
   "mimetype": "text/x-python",
   "name": "python",
   "nbconvert_exporter": "python",
   "pygments_lexer": "ipython3",
   "version": "3.10.4"
  },
  "vscode": {
   "interpreter": {
    "hash": "369f2c481f4da34e4445cda3fffd2e751bd1c4d706f27375911949ba6bb62e1c"
   }
  }
 },
 "nbformat": 4,
 "nbformat_minor": 5
}
